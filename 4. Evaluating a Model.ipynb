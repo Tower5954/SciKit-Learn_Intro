{
 "cells": [
  {
   "cell_type": "markdown",
   "id": "moderate-young",
   "metadata": {},
   "source": [
    "# Evaluating a Machine learning model(score)"
   ]
  },
  {
   "cell_type": "markdown",
   "id": "aboriginal-buyer",
   "metadata": {},
   "source": [
    "### Three ways to evaluate Scikit-Learn models/estimators:\n",
    "1. Estimator `score` method.\n",
    "2. The `scoring` parameter.\n",
    "3. Problem-specific metric functions"
   ]
  },
  {
   "cell_type": "code",
   "execution_count": 1,
   "id": "normal-johnson",
   "metadata": {},
   "outputs": [],
   "source": [
    "# Standard imports\n",
    "\n",
    "import numpy as np\n",
    "import pandas as pd\n",
    "import matplotlib.pyplot as plt\n",
    "%matplotlib inline"
   ]
  },
  {
   "cell_type": "code",
   "execution_count": 2,
   "id": "ongoing-houston",
   "metadata": {},
   "outputs": [],
   "source": [
    "heart_disease = pd.read_csv('~/sample_project/Data/heart-disease.csv')"
   ]
  },
  {
   "cell_type": "code",
   "execution_count": null,
   "id": "usual-annex",
   "metadata": {},
   "outputs": [],
   "source": [
    "from sklearn.ensemble import RandomForestClassifier\n",
    "from sklearn.model_selection import train_test_split\n",
    "\n",
    "np.random.seed(42)\n",
    "\n",
    "X = heart_disease.drop('target', axis=1)\n",
    "y = heart_disease['target']\n",
    "\n",
    "X_train, X_test, y_train, y_test = train_test_split(X, y, train_size=0.2)\n",
    "\n",
    "clf = RandomForestClassifier()\n",
    "\n",
    "clf.fit(X_train, y_train)\n",
    "\n"
   ]
  }
 ],
 "metadata": {
  "kernelspec": {
   "display_name": "Python 3",
   "language": "python",
   "name": "python3"
  },
  "language_info": {
   "codemirror_mode": {
    "name": "ipython",
    "version": 3
   },
   "file_extension": ".py",
   "mimetype": "text/x-python",
   "name": "python",
   "nbconvert_exporter": "python",
   "pygments_lexer": "ipython3",
   "version": "3.9.2"
  }
 },
 "nbformat": 4,
 "nbformat_minor": 5
}
