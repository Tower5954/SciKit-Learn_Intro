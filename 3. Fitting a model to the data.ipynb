{
 "cells": [
  {
   "cell_type": "code",
   "execution_count": 1,
   "id": "checked-jewelry",
   "metadata": {},
   "outputs": [],
   "source": [
    "# Standard imports\n",
    "\n",
    "import numpy as np\n",
    "import pandas as pd\n",
    "import matplotlib.pyplot as plt\n",
    "%matplotlib inline"
   ]
  },
  {
   "cell_type": "markdown",
   "id": "excessive-scanning",
   "metadata": {},
   "source": [
    "# Fit the model / algorithm on our data and use it to make a prediction"
   ]
  },
  {
   "cell_type": "markdown",
   "id": "complete-wichita",
   "metadata": {},
   "source": [
    "### 3.1 Fit the model to the data\n",
    "\n",
    "\n",
    "Different names for:\n",
    "\n",
    "* `X = features, feature variables, Data`\n",
    "\n",
    "* `y = labels, targets, target variables`"
   ]
  },
  {
   "cell_type": "code",
   "execution_count": 3,
   "id": "complicated-distribution",
   "metadata": {},
   "outputs": [],
   "source": [
    "heart_disease = pd.read_csv('C:/Users/gthom/sample_project/Data/heart-disease.csv')"
   ]
  },
  {
   "cell_type": "code",
   "execution_count": 5,
   "id": "entire-montgomery",
   "metadata": {},
   "outputs": [
    {
     "data": {
      "text/plain": [
       "0.7892561983471075"
      ]
     },
     "execution_count": 5,
     "metadata": {},
     "output_type": "execute_result"
    }
   ],
   "source": [
    "from sklearn.model_selection import train_test_split\n",
    "from sklearn.ensemble import RandomForestClassifier\n",
    "\n",
    "# set up random seed\n",
    "np.random.seed(42)\n",
    "\n",
    "# Create the data\n",
    "\n",
    "X = heart_disease.drop('target', axis=1)\n",
    "y = heart_disease['target']\n",
    "\n",
    "# Split the data\n",
    "\n",
    "X_test, X_train, y_test, y_train = train_test_split(X, y, test_size=0.2)\n",
    "\n",
    "# Instatiate RandomForest\n",
    "\n",
    "clf = RandomForestClassifier()\n",
    "\n",
    "# Fit the model to the Data (training the machine learning model)\n",
    "\n",
    "clf.fit(X_train, y_train)\n",
    "\n",
    "# Evaluate the RandomForest Classifier (use the patterns the model has learned)\n",
    "\n",
    "clf.score(X_test, y_test)"
   ]
  },
  {
   "cell_type": "code",
   "execution_count": 6,
   "id": "greater-swedish",
   "metadata": {},
   "outputs": [
    {
     "data": {
      "text/html": [
       "<div>\n",
       "<style scoped>\n",
       "    .dataframe tbody tr th:only-of-type {\n",
       "        vertical-align: middle;\n",
       "    }\n",
       "\n",
       "    .dataframe tbody tr th {\n",
       "        vertical-align: top;\n",
       "    }\n",
       "\n",
       "    .dataframe thead th {\n",
       "        text-align: right;\n",
       "    }\n",
       "</style>\n",
       "<table border=\"1\" class=\"dataframe\">\n",
       "  <thead>\n",
       "    <tr style=\"text-align: right;\">\n",
       "      <th></th>\n",
       "      <th>age</th>\n",
       "      <th>sex</th>\n",
       "      <th>cp</th>\n",
       "      <th>trestbps</th>\n",
       "      <th>chol</th>\n",
       "      <th>fbs</th>\n",
       "      <th>restecg</th>\n",
       "      <th>thalach</th>\n",
       "      <th>exang</th>\n",
       "      <th>oldpeak</th>\n",
       "      <th>slope</th>\n",
       "      <th>ca</th>\n",
       "      <th>thal</th>\n",
       "    </tr>\n",
       "  </thead>\n",
       "  <tbody>\n",
       "    <tr>\n",
       "      <th>0</th>\n",
       "      <td>63</td>\n",
       "      <td>1</td>\n",
       "      <td>3</td>\n",
       "      <td>145</td>\n",
       "      <td>233</td>\n",
       "      <td>1</td>\n",
       "      <td>0</td>\n",
       "      <td>150</td>\n",
       "      <td>0</td>\n",
       "      <td>2.3</td>\n",
       "      <td>0</td>\n",
       "      <td>0</td>\n",
       "      <td>1</td>\n",
       "    </tr>\n",
       "    <tr>\n",
       "      <th>1</th>\n",
       "      <td>37</td>\n",
       "      <td>1</td>\n",
       "      <td>2</td>\n",
       "      <td>130</td>\n",
       "      <td>250</td>\n",
       "      <td>0</td>\n",
       "      <td>1</td>\n",
       "      <td>187</td>\n",
       "      <td>0</td>\n",
       "      <td>3.5</td>\n",
       "      <td>0</td>\n",
       "      <td>0</td>\n",
       "      <td>2</td>\n",
       "    </tr>\n",
       "    <tr>\n",
       "      <th>2</th>\n",
       "      <td>41</td>\n",
       "      <td>0</td>\n",
       "      <td>1</td>\n",
       "      <td>130</td>\n",
       "      <td>204</td>\n",
       "      <td>0</td>\n",
       "      <td>0</td>\n",
       "      <td>172</td>\n",
       "      <td>0</td>\n",
       "      <td>1.4</td>\n",
       "      <td>2</td>\n",
       "      <td>0</td>\n",
       "      <td>2</td>\n",
       "    </tr>\n",
       "    <tr>\n",
       "      <th>3</th>\n",
       "      <td>56</td>\n",
       "      <td>1</td>\n",
       "      <td>1</td>\n",
       "      <td>120</td>\n",
       "      <td>236</td>\n",
       "      <td>0</td>\n",
       "      <td>1</td>\n",
       "      <td>178</td>\n",
       "      <td>0</td>\n",
       "      <td>0.8</td>\n",
       "      <td>2</td>\n",
       "      <td>0</td>\n",
       "      <td>2</td>\n",
       "    </tr>\n",
       "    <tr>\n",
       "      <th>4</th>\n",
       "      <td>57</td>\n",
       "      <td>0</td>\n",
       "      <td>0</td>\n",
       "      <td>120</td>\n",
       "      <td>354</td>\n",
       "      <td>0</td>\n",
       "      <td>1</td>\n",
       "      <td>163</td>\n",
       "      <td>1</td>\n",
       "      <td>0.6</td>\n",
       "      <td>2</td>\n",
       "      <td>0</td>\n",
       "      <td>2</td>\n",
       "    </tr>\n",
       "  </tbody>\n",
       "</table>\n",
       "</div>"
      ],
      "text/plain": [
       "   age  sex  cp  trestbps  chol  fbs  restecg  thalach  exang  oldpeak  slope  \\\n",
       "0   63    1   3       145   233    1        0      150      0      2.3      0   \n",
       "1   37    1   2       130   250    0        1      187      0      3.5      0   \n",
       "2   41    0   1       130   204    0        0      172      0      1.4      2   \n",
       "3   56    1   1       120   236    0        1      178      0      0.8      2   \n",
       "4   57    0   0       120   354    0        1      163      1      0.6      2   \n",
       "\n",
       "   ca  thal  \n",
       "0   0     1  \n",
       "1   0     2  \n",
       "2   0     2  \n",
       "3   0     2  \n",
       "4   0     2  "
      ]
     },
     "execution_count": 6,
     "metadata": {},
     "output_type": "execute_result"
    }
   ],
   "source": [
    "X.head()"
   ]
  },
  {
   "cell_type": "code",
   "execution_count": 7,
   "id": "fifteen-energy",
   "metadata": {},
   "outputs": [
    {
     "data": {
      "text/plain": [
       "0    1\n",
       "1    1\n",
       "2    1\n",
       "3    1\n",
       "4    1\n",
       "Name: target, dtype: int64"
      ]
     },
     "execution_count": 7,
     "metadata": {},
     "output_type": "execute_result"
    }
   ],
   "source": [
    "y.head()"
   ]
  },
  {
   "cell_type": "markdown",
   "id": "electronic-suggestion",
   "metadata": {},
   "source": [
    "### 3.2 Make predictions using a machine learning model\n",
    "\n",
    "The 2 main ways for prediction:\n",
    "\n",
    "1. `predict()`\n",
    "2. `predict_proba()`"
   ]
  },
  {
   "cell_type": "markdown",
   "id": "pharmaceutical-planner",
   "metadata": {},
   "source": [
    "#### Use a trained model to predict"
   ]
  },
  {
   "cell_type": "code",
   "execution_count": 8,
   "id": "addressed-footwear",
   "metadata": {},
   "outputs": [
    {
     "data": {
      "text/plain": [
       "array([1, 0, 1, 1, 0, 1, 1, 1, 1, 1, 1, 1, 1, 0, 1, 1, 1, 0, 1, 1, 0, 1,\n",
       "       1, 1, 0, 0, 1, 1, 1, 1, 1, 1, 1, 1, 1, 1, 0, 1, 1, 1, 1, 1, 0, 1,\n",
       "       1, 1, 1, 1, 0, 1, 1, 0, 1, 1, 0, 1, 1, 1, 0, 0, 0, 0, 1, 0, 0, 1,\n",
       "       0, 0, 1, 1, 1, 0, 1, 1, 1, 1, 1, 0, 0, 0, 0, 1, 1, 1, 1, 0, 0, 0,\n",
       "       0, 1, 1, 1, 1, 1, 1, 1, 0, 1, 1, 0, 1, 1, 1, 0, 1, 1, 1, 1, 1, 0,\n",
       "       1, 0, 1, 0, 0, 0, 1, 0, 1, 1, 1, 1, 1, 0, 1, 1, 0, 1, 1, 1, 1, 1,\n",
       "       1, 1, 0, 1, 0, 1, 1, 1, 1, 1, 1, 0, 1, 1, 1, 1, 1, 0, 1, 0, 1, 1,\n",
       "       1, 1, 1, 1, 1, 1, 1, 0, 1, 1, 1, 1, 1, 1, 1, 0, 1, 1, 0, 0, 1, 1,\n",
       "       0, 0, 1, 1, 1, 1, 0, 0, 1, 0, 1, 1, 0, 1, 0, 0, 0, 1, 1, 1, 1, 1,\n",
       "       1, 1, 1, 1, 0, 0, 1, 1, 1, 0, 0, 1, 0, 0, 1, 1, 0, 1, 0, 0, 0, 1,\n",
       "       1, 0, 0, 1, 1, 0, 0, 0, 1, 1, 0, 1, 1, 0, 1, 1, 1, 1, 1, 1, 0, 1],\n",
       "      dtype=int64)"
      ]
     },
     "execution_count": 8,
     "metadata": {},
     "output_type": "execute_result"
    }
   ],
   "source": [
    "clf.predict(X_test)"
   ]
  },
  {
   "cell_type": "code",
   "execution_count": 10,
   "id": "first-bloom",
   "metadata": {},
   "outputs": [
    {
     "data": {
      "text/plain": [
       "array([1, 0, 0, 1, 0, 1, 1, 1, 0, 1, 1, 0, 1, 0, 1, 0, 0, 0, 1, 1, 0, 1,\n",
       "       1, 1, 0, 0, 1, 1, 1, 1, 1, 1, 1, 1, 1, 1, 1, 1, 0, 1, 1, 1, 0, 0,\n",
       "       1, 1, 1, 1, 0, 1, 0, 0, 1, 0, 1, 0, 1, 1, 0, 0, 0, 0, 0, 0, 0, 1,\n",
       "       0, 0, 0, 1, 1, 0, 0, 1, 1, 0, 1, 0, 0, 0, 0, 0, 1, 1, 1, 0, 1, 0,\n",
       "       0, 1, 1, 1, 1, 0, 1, 1, 0, 1, 0, 0, 1, 0, 1, 0, 1, 1, 1, 1, 1, 0,\n",
       "       1, 0, 1, 1, 0, 0, 1, 1, 0, 1, 1, 0, 1, 0, 1, 0, 0, 1, 0, 1, 0, 1,\n",
       "       1, 1, 1, 0, 0, 0, 1, 0, 0, 0, 1, 0, 1, 1, 1, 0, 1, 0, 0, 1, 1, 1,\n",
       "       1, 0, 1, 1, 0, 1, 1, 0, 1, 1, 1, 0, 0, 1, 1, 0, 1, 1, 0, 0, 1, 0,\n",
       "       0, 0, 0, 1, 1, 1, 0, 0, 0, 0, 1, 1, 0, 1, 0, 0, 0, 1, 1, 1, 1, 1,\n",
       "       1, 0, 1, 1, 1, 0, 0, 1, 1, 0, 0, 1, 0, 0, 1, 1, 0, 0, 0, 0, 0, 1,\n",
       "       1, 0, 0, 1, 1, 0, 0, 0, 1, 1, 1, 1, 1, 0, 1, 0, 1, 0, 1, 1, 0, 1],\n",
       "      dtype=int64)"
      ]
     },
     "execution_count": 10,
     "metadata": {},
     "output_type": "execute_result"
    }
   ],
   "source": [
    "np.array(y_test)"
   ]
  },
  {
   "cell_type": "markdown",
   "id": "falling-handling",
   "metadata": {},
   "source": [
    "##### Compare predictions to truth labels to evaluate the model"
   ]
  },
  {
   "cell_type": "code",
   "execution_count": 12,
   "id": "regional-thanks",
   "metadata": {},
   "outputs": [
    {
     "data": {
      "text/plain": [
       "0.7892561983471075"
      ]
     },
     "execution_count": 12,
     "metadata": {},
     "output_type": "execute_result"
    }
   ],
   "source": [
    "y_preds = clf.predict(X_test)\n",
    "np.mean(y_preds == y_test)"
   ]
  },
  {
   "cell_type": "code",
   "execution_count": 13,
   "id": "intended-accessory",
   "metadata": {},
   "outputs": [
    {
     "data": {
      "text/plain": [
       "0.7892561983471075"
      ]
     },
     "execution_count": 13,
     "metadata": {},
     "output_type": "execute_result"
    }
   ],
   "source": [
    "clf.score(X_test, y_test)"
   ]
  },
  {
   "cell_type": "code",
   "execution_count": 14,
   "id": "personalized-galaxy",
   "metadata": {},
   "outputs": [
    {
     "data": {
      "text/plain": [
       "0.7892561983471075"
      ]
     },
     "execution_count": 14,
     "metadata": {},
     "output_type": "execute_result"
    }
   ],
   "source": [
    "from sklearn.metrics import accuracy_score\n",
    "accuracy_score(y_test, y_preds)"
   ]
  },
  {
   "cell_type": "markdown",
   "id": "complete-period",
   "metadata": {},
   "source": [
    "#### Make predictions using `predict_proba()`"
   ]
  },
  {
   "cell_type": "code",
   "execution_count": 15,
   "id": "anonymous-logistics",
   "metadata": {},
   "outputs": [
    {
     "data": {
      "text/plain": [
       "array([[0.07, 0.93],\n",
       "       [0.81, 0.19],\n",
       "       [0.21, 0.79],\n",
       "       [0.19, 0.81],\n",
       "       [0.7 , 0.3 ],\n",
       "       [0.3 , 0.7 ],\n",
       "       [0.28, 0.72],\n",
       "       [0.39, 0.61],\n",
       "       [0.15, 0.85],\n",
       "       [0.04, 0.96],\n",
       "       [0.18, 0.82],\n",
       "       [0.48, 0.52],\n",
       "       [0.09, 0.91],\n",
       "       [0.81, 0.19],\n",
       "       [0.03, 0.97],\n",
       "       [0.14, 0.86],\n",
       "       [0.37, 0.63],\n",
       "       [0.65, 0.35],\n",
       "       [0.45, 0.55],\n",
       "       [0.12, 0.88],\n",
       "       [0.89, 0.11],\n",
       "       [0.41, 0.59],\n",
       "       [0.23, 0.77],\n",
       "       [0.33, 0.67],\n",
       "       [0.63, 0.37],\n",
       "       [0.93, 0.07],\n",
       "       [0.3 , 0.7 ],\n",
       "       [0.35, 0.65],\n",
       "       [0.31, 0.69],\n",
       "       [0.27, 0.73],\n",
       "       [0.02, 0.98],\n",
       "       [0.04, 0.96],\n",
       "       [0.08, 0.92],\n",
       "       [0.35, 0.65],\n",
       "       [0.12, 0.88],\n",
       "       [0.49, 0.51],\n",
       "       [0.68, 0.32],\n",
       "       [0.  , 1.  ],\n",
       "       [0.48, 0.52],\n",
       "       [0.2 , 0.8 ],\n",
       "       [0.07, 0.93],\n",
       "       [0.23, 0.77],\n",
       "       [0.7 , 0.3 ],\n",
       "       [0.41, 0.59],\n",
       "       [0.01, 0.99],\n",
       "       [0.12, 0.88],\n",
       "       [0.21, 0.79],\n",
       "       [0.49, 0.51],\n",
       "       [0.87, 0.13],\n",
       "       [0.01, 0.99],\n",
       "       [0.02, 0.98],\n",
       "       [0.94, 0.06],\n",
       "       [0.31, 0.69],\n",
       "       [0.21, 0.79],\n",
       "       [0.57, 0.43],\n",
       "       [0.33, 0.67],\n",
       "       [0.  , 1.  ],\n",
       "       [0.37, 0.63],\n",
       "       [0.75, 0.25],\n",
       "       [0.86, 0.14],\n",
       "       [0.88, 0.12],\n",
       "       [0.82, 0.18],\n",
       "       [0.44, 0.56],\n",
       "       [0.86, 0.14],\n",
       "       [0.87, 0.13],\n",
       "       [0.13, 0.87],\n",
       "       [0.8 , 0.2 ],\n",
       "       [0.54, 0.46],\n",
       "       [0.26, 0.74],\n",
       "       [0.34, 0.66],\n",
       "       [0.13, 0.87],\n",
       "       [0.56, 0.44],\n",
       "       [0.34, 0.66],\n",
       "       [0.11, 0.89],\n",
       "       [0.25, 0.75],\n",
       "       [0.4 , 0.6 ],\n",
       "       [0.24, 0.76],\n",
       "       [0.76, 0.24],\n",
       "       [0.71, 0.29],\n",
       "       [0.91, 0.09],\n",
       "       [0.9 , 0.1 ],\n",
       "       [0.31, 0.69],\n",
       "       [0.12, 0.88],\n",
       "       [0.01, 0.99],\n",
       "       [0.09, 0.91],\n",
       "       [0.88, 0.12],\n",
       "       [0.78, 0.22],\n",
       "       [0.86, 0.14],\n",
       "       [0.94, 0.06],\n",
       "       [0.13, 0.87],\n",
       "       [0.  , 1.  ],\n",
       "       [0.17, 0.83],\n",
       "       [0.3 , 0.7 ],\n",
       "       [0.46, 0.54],\n",
       "       [0.13, 0.87],\n",
       "       [0.03, 0.97],\n",
       "       [0.55, 0.45],\n",
       "       [0.02, 0.98],\n",
       "       [0.18, 0.82],\n",
       "       [0.77, 0.23],\n",
       "       [0.28, 0.72],\n",
       "       [0.48, 0.52],\n",
       "       [0.46, 0.54],\n",
       "       [0.89, 0.11],\n",
       "       [0.18, 0.82],\n",
       "       [0.02, 0.98],\n",
       "       [0.15, 0.85],\n",
       "       [0.27, 0.73],\n",
       "       [0.  , 1.  ],\n",
       "       [0.87, 0.13],\n",
       "       [0.05, 0.95],\n",
       "       [0.67, 0.33],\n",
       "       [0.37, 0.63],\n",
       "       [0.65, 0.35],\n",
       "       [0.9 , 0.1 ],\n",
       "       [0.71, 0.29],\n",
       "       [0.03, 0.97],\n",
       "       [0.63, 0.37],\n",
       "       [0.42, 0.58],\n",
       "       [0.19, 0.81],\n",
       "       [0.16, 0.84],\n",
       "       [0.34, 0.66],\n",
       "       [0.3 , 0.7 ],\n",
       "       [0.58, 0.42],\n",
       "       [0.33, 0.67],\n",
       "       [0.46, 0.54],\n",
       "       [0.67, 0.33],\n",
       "       [0.25, 0.75],\n",
       "       [0.12, 0.88],\n",
       "       [0.13, 0.87],\n",
       "       [0.26, 0.74],\n",
       "       [0.14, 0.86],\n",
       "       [0.08, 0.92],\n",
       "       [0.22, 0.78],\n",
       "       [0.68, 0.32],\n",
       "       [0.36, 0.64],\n",
       "       [0.81, 0.19],\n",
       "       [0.44, 0.56],\n",
       "       [0.11, 0.89],\n",
       "       [0.41, 0.59],\n",
       "       [0.16, 0.84],\n",
       "       [0.25, 0.75],\n",
       "       [0.25, 0.75],\n",
       "       [0.8 , 0.2 ],\n",
       "       [0.35, 0.65],\n",
       "       [0.03, 0.97],\n",
       "       [0.  , 1.  ],\n",
       "       [0.44, 0.56],\n",
       "       [0.02, 0.98],\n",
       "       [0.88, 0.12],\n",
       "       [0.18, 0.82],\n",
       "       [0.75, 0.25],\n",
       "       [0.17, 0.83],\n",
       "       [0.13, 0.87],\n",
       "       [0.04, 0.96],\n",
       "       [0.29, 0.71],\n",
       "       [0.17, 0.83],\n",
       "       [0.34, 0.66],\n",
       "       [0.41, 0.59],\n",
       "       [0.04, 0.96],\n",
       "       [0.12, 0.88],\n",
       "       [0.56, 0.44],\n",
       "       [0.  , 1.  ],\n",
       "       [0.36, 0.64],\n",
       "       [0.03, 0.97],\n",
       "       [0.29, 0.71],\n",
       "       [0.49, 0.51],\n",
       "       [0.22, 0.78],\n",
       "       [0.38, 0.62],\n",
       "       [0.58, 0.42],\n",
       "       [0.36, 0.64],\n",
       "       [0.11, 0.89],\n",
       "       [0.83, 0.17],\n",
       "       [0.76, 0.24],\n",
       "       [0.3 , 0.7 ],\n",
       "       [0.42, 0.58],\n",
       "       [0.58, 0.42],\n",
       "       [0.65, 0.35],\n",
       "       [0.45, 0.55],\n",
       "       [0.3 , 0.7 ],\n",
       "       [0.03, 0.97],\n",
       "       [0.1 , 0.9 ],\n",
       "       [0.74, 0.26],\n",
       "       [0.83, 0.17],\n",
       "       [0.19, 0.81],\n",
       "       [0.96, 0.04],\n",
       "       [0.17, 0.83],\n",
       "       [0.32, 0.68],\n",
       "       [0.97, 0.03],\n",
       "       [0.3 , 0.7 ],\n",
       "       [0.81, 0.19],\n",
       "       [0.82, 0.18],\n",
       "       [0.97, 0.03],\n",
       "       [0.07, 0.93],\n",
       "       [0.33, 0.67],\n",
       "       [0.01, 0.99],\n",
       "       [0.09, 0.91],\n",
       "       [0.12, 0.88],\n",
       "       [0.  , 1.  ],\n",
       "       [0.44, 0.56],\n",
       "       [0.49, 0.51],\n",
       "       [0.44, 0.56],\n",
       "       [0.62, 0.38],\n",
       "       [0.51, 0.49],\n",
       "       [0.48, 0.52],\n",
       "       [0.31, 0.69],\n",
       "       [0.08, 0.92],\n",
       "       [0.9 , 0.1 ],\n",
       "       [0.89, 0.11],\n",
       "       [0.06, 0.94],\n",
       "       [0.5 , 0.5 ],\n",
       "       [0.89, 0.11],\n",
       "       [0.03, 0.97],\n",
       "       [0.05, 0.95],\n",
       "       [1.  , 0.  ],\n",
       "       [0.36, 0.64],\n",
       "       [0.83, 0.17],\n",
       "       [0.92, 0.08],\n",
       "       [0.72, 0.28],\n",
       "       [0.13, 0.87],\n",
       "       [0.23, 0.77],\n",
       "       [0.52, 0.48],\n",
       "       [0.84, 0.16],\n",
       "       [0.02, 0.98],\n",
       "       [0.02, 0.98],\n",
       "       [0.87, 0.13],\n",
       "       [0.98, 0.02],\n",
       "       [0.89, 0.11],\n",
       "       [0.06, 0.94],\n",
       "       [0.08, 0.92],\n",
       "       [0.68, 0.32],\n",
       "       [0.16, 0.84],\n",
       "       [0.13, 0.87],\n",
       "       [0.85, 0.15],\n",
       "       [0.26, 0.74],\n",
       "       [0.12, 0.88],\n",
       "       [0.46, 0.54],\n",
       "       [0.15, 0.85],\n",
       "       [0.15, 0.85],\n",
       "       [0.46, 0.54],\n",
       "       [0.65, 0.35],\n",
       "       [0.11, 0.89]])"
      ]
     },
     "execution_count": 15,
     "metadata": {},
     "output_type": "execute_result"
    }
   ],
   "source": [
    "# predict_proba() returns probabilities of a classification label\n",
    "\n",
    "clf.predict_proba(X_test)"
   ]
  },
  {
   "cell_type": "code",
   "execution_count": 16,
   "id": "unusual-lawrence",
   "metadata": {},
   "outputs": [
    {
     "data": {
      "text/plain": [
       "array([[0.07, 0.93],\n",
       "       [0.81, 0.19],\n",
       "       [0.21, 0.79],\n",
       "       [0.19, 0.81],\n",
       "       [0.7 , 0.3 ]])"
      ]
     },
     "execution_count": 16,
     "metadata": {},
     "output_type": "execute_result"
    }
   ],
   "source": [
    "clf.predict_proba(X_test[:5])"
   ]
  },
  {
   "cell_type": "code",
   "execution_count": 17,
   "id": "moral-uruguay",
   "metadata": {},
   "outputs": [],
   "source": [
    "# Let's predict on the same data..."
   ]
  },
  {
   "cell_type": "code",
   "execution_count": 18,
   "id": "adequate-festival",
   "metadata": {},
   "outputs": [
    {
     "data": {
      "text/plain": [
       "array([1, 0, 1, 1, 0], dtype=int64)"
      ]
     },
     "execution_count": 18,
     "metadata": {},
     "output_type": "execute_result"
    }
   ],
   "source": [
    "clf.predict(X_test[:5])"
   ]
  },
  {
   "cell_type": "code",
   "execution_count": 21,
   "id": "built-infrared",
   "metadata": {},
   "outputs": [
    {
     "data": {
      "text/html": [
       "<div>\n",
       "<style scoped>\n",
       "    .dataframe tbody tr th:only-of-type {\n",
       "        vertical-align: middle;\n",
       "    }\n",
       "\n",
       "    .dataframe tbody tr th {\n",
       "        vertical-align: top;\n",
       "    }\n",
       "\n",
       "    .dataframe thead th {\n",
       "        text-align: right;\n",
       "    }\n",
       "</style>\n",
       "<table border=\"1\" class=\"dataframe\">\n",
       "  <thead>\n",
       "    <tr style=\"text-align: right;\">\n",
       "      <th></th>\n",
       "      <th>age</th>\n",
       "      <th>sex</th>\n",
       "      <th>cp</th>\n",
       "      <th>trestbps</th>\n",
       "      <th>chol</th>\n",
       "      <th>fbs</th>\n",
       "      <th>restecg</th>\n",
       "      <th>thalach</th>\n",
       "      <th>exang</th>\n",
       "      <th>oldpeak</th>\n",
       "      <th>slope</th>\n",
       "      <th>ca</th>\n",
       "      <th>thal</th>\n",
       "    </tr>\n",
       "  </thead>\n",
       "  <tbody>\n",
       "    <tr>\n",
       "      <th>132</th>\n",
       "      <td>42</td>\n",
       "      <td>1</td>\n",
       "      <td>1</td>\n",
       "      <td>120</td>\n",
       "      <td>295</td>\n",
       "      <td>0</td>\n",
       "      <td>1</td>\n",
       "      <td>162</td>\n",
       "      <td>0</td>\n",
       "      <td>0.0</td>\n",
       "      <td>2</td>\n",
       "      <td>0</td>\n",
       "      <td>2</td>\n",
       "    </tr>\n",
       "    <tr>\n",
       "      <th>202</th>\n",
       "      <td>58</td>\n",
       "      <td>1</td>\n",
       "      <td>0</td>\n",
       "      <td>150</td>\n",
       "      <td>270</td>\n",
       "      <td>0</td>\n",
       "      <td>0</td>\n",
       "      <td>111</td>\n",
       "      <td>1</td>\n",
       "      <td>0.8</td>\n",
       "      <td>2</td>\n",
       "      <td>0</td>\n",
       "      <td>3</td>\n",
       "    </tr>\n",
       "    <tr>\n",
       "      <th>196</th>\n",
       "      <td>46</td>\n",
       "      <td>1</td>\n",
       "      <td>2</td>\n",
       "      <td>150</td>\n",
       "      <td>231</td>\n",
       "      <td>0</td>\n",
       "      <td>1</td>\n",
       "      <td>147</td>\n",
       "      <td>0</td>\n",
       "      <td>3.6</td>\n",
       "      <td>1</td>\n",
       "      <td>0</td>\n",
       "      <td>2</td>\n",
       "    </tr>\n",
       "    <tr>\n",
       "      <th>75</th>\n",
       "      <td>55</td>\n",
       "      <td>0</td>\n",
       "      <td>1</td>\n",
       "      <td>135</td>\n",
       "      <td>250</td>\n",
       "      <td>0</td>\n",
       "      <td>0</td>\n",
       "      <td>161</td>\n",
       "      <td>0</td>\n",
       "      <td>1.4</td>\n",
       "      <td>1</td>\n",
       "      <td>0</td>\n",
       "      <td>2</td>\n",
       "    </tr>\n",
       "    <tr>\n",
       "      <th>176</th>\n",
       "      <td>60</td>\n",
       "      <td>1</td>\n",
       "      <td>0</td>\n",
       "      <td>117</td>\n",
       "      <td>230</td>\n",
       "      <td>1</td>\n",
       "      <td>1</td>\n",
       "      <td>160</td>\n",
       "      <td>1</td>\n",
       "      <td>1.4</td>\n",
       "      <td>2</td>\n",
       "      <td>2</td>\n",
       "      <td>3</td>\n",
       "    </tr>\n",
       "  </tbody>\n",
       "</table>\n",
       "</div>"
      ],
      "text/plain": [
       "     age  sex  cp  trestbps  chol  fbs  restecg  thalach  exang  oldpeak  \\\n",
       "132   42    1   1       120   295    0        1      162      0      0.0   \n",
       "202   58    1   0       150   270    0        0      111      1      0.8   \n",
       "196   46    1   2       150   231    0        1      147      0      3.6   \n",
       "75    55    0   1       135   250    0        0      161      0      1.4   \n",
       "176   60    1   0       117   230    1        1      160      1      1.4   \n",
       "\n",
       "     slope  ca  thal  \n",
       "132      2   0     2  \n",
       "202      2   0     3  \n",
       "196      1   0     2  \n",
       "75       1   0     2  \n",
       "176      2   2     3  "
      ]
     },
     "execution_count": 21,
     "metadata": {},
     "output_type": "execute_result"
    }
   ],
   "source": [
    "X_test[:5]"
   ]
  },
  {
   "cell_type": "markdown",
   "id": "japanese-compression",
   "metadata": {},
   "source": [
    "####  `predict( )` can also be used for Regression models"
   ]
  },
  {
   "cell_type": "code",
   "execution_count": null,
   "id": "antique-carbon",
   "metadata": {},
   "outputs": [],
   "source": [
    "from sklearn.ensemble import RandomForestRegressor\n",
    "\n",
    "np.random.seed(42)\n",
    "\n",
    "# Create the data\n",
    "\n",
    "boston_df = pd.read_csv('C:/Users/gthom/sample_project/Data/heart-disease.csv')\n",
    "\n",
    "X = boston_df.drop('target', axis=1)\n",
    "y = boston_df['']"
   ]
  }
 ],
 "metadata": {
  "kernelspec": {
   "display_name": "Python 3",
   "language": "python",
   "name": "python3"
  },
  "language_info": {
   "codemirror_mode": {
    "name": "ipython",
    "version": 3
   },
   "file_extension": ".py",
   "mimetype": "text/x-python",
   "name": "python",
   "nbconvert_exporter": "python",
   "pygments_lexer": "ipython3",
   "version": "3.9.2"
  }
 },
 "nbformat": 4,
 "nbformat_minor": 5
}
